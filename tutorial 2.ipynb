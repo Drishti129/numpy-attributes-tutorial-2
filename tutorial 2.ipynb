{
 "cells": [
  {
   "cell_type": "code",
   "execution_count": 19,
   "id": "d5c35401-5687-46f7-a6a7-bccc9d5ab701",
   "metadata": {},
   "outputs": [
    {
     "name": "stdout",
     "output_type": "stream",
     "text": [
      "(1, 3, 3)\n",
      "9\n",
      "3\n",
      "None\n",
      "(36, 12, 4)\n",
      "36\n",
      "[[[7 9 5]\n",
      "  [6 9 8]\n",
      "  [4 5 2]]]\n",
      "[[[0 0 0]\n",
      "  [0 0 0]\n",
      "  [0 0 0]]]\n",
      "4\n",
      "  C_CONTIGUOUS : True\n",
      "  F_CONTIGUOUS : False\n",
      "  OWNDATA : True\n",
      "  WRITEABLE : True\n",
      "  ALIGNED : True\n",
      "  WRITEBACKIFCOPY : False\n",
      "\n",
      "[[[7]\n",
      "  [6]\n",
      "  [4]]\n",
      "\n",
      " [[9]\n",
      "  [9]\n",
      "  [5]]\n",
      "\n",
      " [[5]\n",
      "  [8]\n",
      "  [2]]]\n",
      "<memory at 0x00000236AC254F40>\n"
     ]
    }
   ],
   "source": [
    "import numpy as np\n",
    "arr1= np.array([[[7,9,5],\n",
    "                [6,9,8],\n",
    "                [4,5,2]]])\n",
    "print(arr1.shape)\n",
    "print(arr1.size)\n",
    "print(arr1.ndim)\n",
    "print(arr1.base)\n",
    "print(arr1.strides)\n",
    "print(arr1.nbytes)\n",
    "print(arr1.real)\n",
    "print(arr1.imag)\n",
    "print(arr1.itemsize)\n",
    "print(arr1.flags)\n",
    "print(arr1.T)\n",
    "print(arr1.data)\n",
    "\n",
    "\n",
    "\n",
    "\n"
   ]
  },
  {
   "cell_type": "code",
   "execution_count": null,
   "id": "008e7b21-c134-4f68-bdab-3911fcf1e1b5",
   "metadata": {},
   "outputs": [],
   "source": []
  }
 ],
 "metadata": {
  "kernelspec": {
   "display_name": "Python 3 (ipykernel)",
   "language": "python",
   "name": "python3"
  },
  "language_info": {
   "codemirror_mode": {
    "name": "ipython",
    "version": 3
   },
   "file_extension": ".py",
   "mimetype": "text/x-python",
   "name": "python",
   "nbconvert_exporter": "python",
   "pygments_lexer": "ipython3",
   "version": "3.12.4"
  }
 },
 "nbformat": 4,
 "nbformat_minor": 5
}
